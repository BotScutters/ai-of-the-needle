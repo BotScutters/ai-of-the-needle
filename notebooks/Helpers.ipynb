{
 "cells": [
  {
   "cell_type": "code",
   "execution_count": 2,
   "metadata": {},
   "outputs": [
    {
     "name": "stdout",
     "output_type": "stream",
     "text": [
      "Writing ../src/utils/helpers.py\n"
     ]
    }
   ],
   "source": [
    "%%writefile ../src/utils/helpers.py\n",
    "import os\n",
    "import pickle\n",
    "\n",
    "def load_or_make(filepath, overwrite='n'):\n",
    "    def decorator(func):\n",
    "        def wraps(*args, **kwargs):\n",
    "            if overwrite == 'y':\n",
    "                ow = input(f'Are you sure you want to overwrite {filepath}? y/n: ')\n",
    "                if (os.path.exists(filepath)) and (ow == 'y'):\n",
    "                    os.remove(filepath)\n",
    "            try:\n",
    "                with open(filepath, 'rb') as f:\n",
    "                    data = pickle.load(f)\n",
    "            except:\n",
    "                data = func(*args, **kwargs)\n",
    "                with open(filepath, 'wb') as to_write:\n",
    "                    pickle.dump(data, to_write)\n",
    "            return data\n",
    "        return wraps\n",
    "    return decorator\n",
    "\n",
    "\n",
    "def save_to(item, filepath, verbose=True):\n",
    "    \"\"\"\n",
    "    Pickles item sand saves it to path\n",
    "    Input: object to be pickled, string containing directory and filename\n",
    "    Output: pickled object stored to provided path\n",
    "    \"\"\"\n",
    "    with open(filepath, 'wb') as to_write:\n",
    "        pickle.dump(item, to_write, protocol=2)\n",
    "    if verbose:\n",
    "        print(f'Saved file to {filepath}')\n",
    "    return\n",
    "\n",
    "\n",
    "def load_from(filepath, verbose=True):\n",
    "    \"\"\"\n",
    "    Unpickles item and returns item from path\n",
    "    Input: filepath to pickled object\n",
    "    Output: unpickled object\n",
    "    \"\"\"\n",
    "    if not file_exists(filepath):\n",
    "        print(f'Failed to load from {filepath}. Does not exist.')\n",
    "    with open(filepath, 'rb') as f:\n",
    "        item = pickle.load(f)\n",
    "    if verbose:\n",
    "        print(f'Loaded file from {filepath}')\n",
    "    return item\n",
    "\n",
    "\n",
    "def file_exists(filepath):\n",
    "    \"\"\"\n",
    "    Returns True if specified file already exists, else False\n",
    "    Input:\n",
    "        path (str), path to directory containing file\n",
    "        filename (str), name of file to check for\n",
    "    Output: True if specified file already exists, else False\n",
    "    \"\"\"\n",
    "    file_exists = os.path.isfile(filepath)\n",
    "    return file_exists\n",
    "\n"
   ]
  },
  {
   "cell_type": "code",
   "execution_count": null,
   "metadata": {},
   "outputs": [],
   "source": []
  }
 ],
 "metadata": {
  "kernelspec": {
   "display_name": "Python (project5)",
   "language": "python",
   "name": "project5"
  },
  "language_info": {
   "codemirror_mode": {
    "name": "ipython",
    "version": 3
   },
   "file_extension": ".py",
   "mimetype": "text/x-python",
   "name": "python",
   "nbconvert_exporter": "python",
   "pygments_lexer": "ipython3",
   "version": "3.7.3"
  }
 },
 "nbformat": 4,
 "nbformat_minor": 2
}
